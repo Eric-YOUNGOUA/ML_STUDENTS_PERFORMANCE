{
 "cells": [
  {
   "cell_type": "code",
   "execution_count": null,
   "id": "1024fa9f",
   "metadata": {},
   "outputs": [],
   "source": [
    "import numpy as np\n",
    "import pandas as pd\n",
    "import matplotlib.pyplot as plt\n",
    "import seaborn as sns\n",
    "import matplotlib.pyplot as plt\n",
    "import seaborn as sns\n",
    "from sklearn.model_selection import train_test_split\n",
    "from sklearn.linear_model import LinearRegression\n",
    "from sklearn.metrics import mean_squared_error, r2_score\n",
    "from sklearn.metrics import mean_absolute_percentage_error"
   ]
  },
  {
   "cell_type": "code",
   "execution_count": null,
   "id": "5aa6f1a3",
   "metadata": {},
   "outputs": [
    {
     "name": "stdout",
     "output_type": "stream",
     "text": [
      "  STUDENT ID  Student Age  Sex  Graduated high-school type  Scholarship type  \\\n",
      "0   STUDENT1            2    2                           3                 3   \n",
      "1   STUDENT2            2    2                           3                 3   \n",
      "2   STUDENT3            2    2                           2                 3   \n",
      "3   STUDENT4            1    1                           1                 3   \n",
      "4   STUDENT5            2    2                           1                 3   \n",
      "\n",
      "   Additional work  Regular artistic or sports activity  \\\n",
      "0                1                                    2   \n",
      "1                1                                    2   \n",
      "2                2                                    2   \n",
      "3                1                                    2   \n",
      "4                2                                    2   \n",
      "\n",
      "   Do you have a partner  Total salary if available  \\\n",
      "0                      2                          1   \n",
      "1                      2                          1   \n",
      "2                      2                          2   \n",
      "3                      1                          2   \n",
      "4                      1                          3   \n",
      "\n",
      "   Transportation to the university  ...  Preparation to midterm exams 1  \\\n",
      "0                                 1  ...                               1   \n",
      "1                                 1  ...                               1   \n",
      "2                                 4  ...                               1   \n",
      "3                                 1  ...                               1   \n",
      "4                                 1  ...                               2   \n",
      "\n",
      "   Preparation to midterm exams 2  Taking notes in classes  \\\n",
      "0                               1                        3   \n",
      "1                               1                        3   \n",
      "2                               1                        2   \n",
      "3                               2                        3   \n",
      "4                               1                        2   \n",
      "\n",
      "   Listening in classes  \\\n",
      "0                     2   \n",
      "1                     2   \n",
      "2                     2   \n",
      "3                     2   \n",
      "4                     2   \n",
      "\n",
      "   Discussion improves my interest and success in the course  Flip-classroom  \\\n",
      "0                                                  1                       2   \n",
      "1                                                  3                       2   \n",
      "2                                                  1                       1   \n",
      "3                                                  2                       1   \n",
      "4                                                  2                       1   \n",
      "\n",
      "   Cumulative grade point average in the last semester (/4.00)  \\\n",
      "0                                                  1             \n",
      "1                                                  2             \n",
      "2                                                  2             \n",
      "3                                                  3             \n",
      "4                                                  2             \n",
      "\n",
      "   Expected Cumulative grade point average in the graduation (/4.00)  \\\n",
      "0                                                  1                   \n",
      "1                                                  3                   \n",
      "2                                                  2                   \n",
      "3                                                  2                   \n",
      "4                                                  2                   \n",
      "\n",
      "   COURSE ID  GRADE  \n",
      "0          1      1  \n",
      "1          1      1  \n",
      "2          1      1  \n",
      "3          1      1  \n",
      "4          1      1  \n",
      "\n",
      "[5 rows x 33 columns]\n"
     ]
    }
   ],
   "source": [
    "file_path = \"StudentsPerformance_with_headers.csv\"\n",
    "df = pd.read_csv(file_path)\n",
    "\n",
    "# Display the first few rows\n",
    "print(df.head())"
   ]
  },
  {
   "cell_type": "code",
   "execution_count": 10,
   "id": "24157ffd",
   "metadata": {},
   "outputs": [
    {
     "data": {
      "text/plain": [
       "(145, 33)"
      ]
     },
     "execution_count": 10,
     "metadata": {},
     "output_type": "execute_result"
    }
   ],
   "source": [
    "df.shape"
   ]
  },
  {
   "cell_type": "code",
   "execution_count": 11,
   "id": "2410e2d0",
   "metadata": {},
   "outputs": [
    {
     "data": {
      "text/plain": [
       "STUDENT ID                                                           0\n",
       "Student Age                                                          0\n",
       "Sex                                                                  0\n",
       "Graduated high-school type                                           0\n",
       "Scholarship type                                                     0\n",
       "Additional work                                                      0\n",
       "Regular artistic or sports activity                                  0\n",
       "Do you have a partner                                                0\n",
       "Total salary if available                                            0\n",
       "Transportation to the university                                     0\n",
       "Accommodation type in Cyprus                                         0\n",
       "Mother’s education                                                   0\n",
       "Father’s education                                                   0\n",
       "Number of sisters/brothers                                           0\n",
       "Parental status                                                      0\n",
       "Mother’s occupation                                                  0\n",
       "Father’s occupation                                                  0\n",
       "Weekly study hours                                                   0\n",
       "Reading frequency                                                    0\n",
       "Reading frequency.1                                                  0\n",
       "Attendance to the seminars/conferences related to the department     0\n",
       "Impact of your projects/activities on your success                   0\n",
       "Attendance to classes                                                0\n",
       "Preparation to midterm exams 1                                       0\n",
       "Preparation to midterm exams 2                                       0\n",
       "Taking notes in classes                                              0\n",
       "Listening in classes                                                 0\n",
       "Discussion improves my interest and success in the course            0\n",
       "Flip-classroom                                                       0\n",
       "Cumulative grade point average in the last semester (/4.00)          0\n",
       "Expected Cumulative grade point average in the graduation (/4.00)    0\n",
       "COURSE ID                                                            0\n",
       "GRADE                                                                0\n",
       "dtype: int64"
      ]
     },
     "execution_count": 11,
     "metadata": {},
     "output_type": "execute_result"
    }
   ],
   "source": [
    "df.isnull().sum()"
   ]
  },
  {
   "cell_type": "code",
   "execution_count": null,
   "id": "897766c6",
   "metadata": {},
   "outputs": [],
   "source": [
    "#création d'un dataset provisoire pour afficher la matrice de corelation\n",
    "df_numeric = df.select_dtypes(include=['number'])\n",
    "# Calcul de la matrice de corrélation\n",
    "correlation_matrix = df_numeric.corr()\n",
    "\n",
    "# Affichage de la heatmap\n",
    "sns.heatmap(correlation_matrix, annot=True, cmap='coolwarm')\n",
    "plt.title('Correlation matrix')\n",
    "plt.show()"
   ]
  },
  {
   "cell_type": "code",
   "execution_count": null,
   "id": "dbd5ba50",
   "metadata": {},
   "outputs": [],
   "source": [
    "# Création d'un boxplot pour TV, Radio et Newspaper\n",
    "sns.boxplot(data=df_numeric)\n",
    "plt.title('Distribution of Advertising Budgets')\n",
    "plt.show()"
   ]
  },
  {
   "cell_type": "code",
   "execution_count": null,
   "id": "2bf78b6a",
   "metadata": {},
   "outputs": [],
   "source": [
    "# Define features and target variable\n",
    "features = [\n",
    "    'Student Age', 'Sex', 'Graduated high-school type', 'Scholarship type',\n",
    "    'Additional work', 'Regular artistic or sports activity', 'Do you have a partner',\n",
    "    'Total salary if available', 'Transportation to the university',\n",
    "    'Preparation to midterm exams 1', 'Preparation to midterm exams 2',\n",
    "    'Taking notes in classes', 'Listening in classes',\n",
    "    'Discussion improves my interest and success in the course',\n",
    "    'Flip-classroom', 'Cumulative grade point average in the last semester (/4.00)'\n",
    "]\n",
    "\n",
    "X = df[features]\n",
    "y = df['Expected Cumulative grade point average in the graduation (/4.00)']\n",
    "\n",
    "# Split data into training and test sets (80% train, 20% test)\n",
    "X_train, X_test, y_train, y_test = train_test_split(X, y, test_size=0.2, random_state=42)\n",
    "\n",
    "# Initialize and train the linear regression model\n",
    "model = LinearRegression()\n",
    "model.fit(X_train, y_train)\n"
   ]
  },
  {
   "cell_type": "code",
   "execution_count": null,
   "id": "f84970db",
   "metadata": {},
   "outputs": [],
   "source": [
    "# Make predictions\n",
    "y_pred = model.predict(X_test)"
   ]
  },
  {
   "cell_type": "code",
   "execution_count": null,
   "id": "9115b7f3",
   "metadata": {},
   "outputs": [],
   "source": [
    "# Calcul du coefficient de détermination (R²)\n",
    "r2 = r2_score(y_test, y_pred)\n",
    "r2"
   ]
  },
  {
   "cell_type": "code",
   "execution_count": null,
   "id": "14f26c39",
   "metadata": {},
   "outputs": [],
   "source": [
    "# Calcul du coefficient de corrélation R\n",
    "r = np.sqrt(r2)\n",
    "r"
   ]
  },
  {
   "cell_type": "code",
   "execution_count": null,
   "id": "77704709",
   "metadata": {},
   "outputs": [],
   "source": [
    "# Calcul du MSE\n",
    "mse = mean_squared_error(y_test, y_pred)\n",
    "mse"
   ]
  },
  {
   "cell_type": "code",
   "execution_count": null,
   "id": "ce7defab",
   "metadata": {},
   "outputs": [],
   "source": [
    "# Calcul du RMSE\n",
    "rmse = np.sqrt(mse)\n",
    "rmse"
   ]
  },
  {
   "cell_type": "code",
   "execution_count": null,
   "id": "b7f0e06d",
   "metadata": {},
   "outputs": [],
   "source": [
    "# Calcul du MAPE\n",
    "error = mean_absolute_percentage_error(y_test, y_pred)\n",
    "\n",
    "# Calcul de la précision dérivée du MAPE\n",
    "print(f'Accuracy of Linear Regression is {((1 - error) * 100):.2f}%')"
   ]
  },
  {
   "cell_type": "code",
   "execution_count": null,
   "id": "22595464",
   "metadata": {},
   "outputs": [],
   "source": [
    "# Scatter plot of Actual vs. Predicted Performance Index\n",
    "plt.figure(figsize=(10, 6))\n",
    "plt.scatter(y_test, model.predict(X_test), alpha=0.5)\n",
    "plt.plot([min(y_test), max(y_test)], [min(y_test), max(y_test)], 'r--')\n",
    "plt.xlabel(\"Actual Performance Index\")\n",
    "plt.ylabel(\"Predicted Performance Index\")\n",
    "plt.title(\"Actual vs. Predicted Performance Index\")\n",
    "plt.grid(True)\n",
    "plt.show()"
   ]
  },
  {
   "cell_type": "code",
   "execution_count": null,
   "id": "495989aa",
   "metadata": {},
   "outputs": [],
   "source": [
    "# Residuals plot\n",
    "residuals = y_test - model.predict(X_test)\n",
    "plt.figure(figsize=(10, 6))\n",
    "sns.histplot(residuals, kde=True)\n",
    "plt.xlabel(\"Residuals\")\n",
    "plt.ylabel(\"Frequency\")\n",
    "plt.title(\"Distribution of Residuals\")\n",
    "plt.show()"
   ]
  },
  {
   "cell_type": "code",
   "execution_count": null,
   "id": "6c1d66bf",
   "metadata": {},
   "outputs": [],
   "source": [
    "# Residuals vs. Predicted values plot\n",
    "plt.figure(figsize=(10, 6))\n",
    "plt.scatter(model.predict(X_test), residuals, alpha=0.5)\n",
    "plt.xlabel(\"Predicted Performance Index\")\n",
    "plt.ylabel(\"Residuals\")\n",
    "plt.title(\"Residuals vs. Predicted Values\")\n",
    "plt.axhline(y=0, color='r', linestyle='--')\n",
    "plt.grid(True)\n",
    "plt.show()"
   ]
  }
 ],
 "metadata": {
  "kernelspec": {
   "display_name": "Python 3",
   "language": "python",
   "name": "python3"
  },
  "language_info": {
   "codemirror_mode": {
    "name": "ipython",
    "version": 3
   },
   "file_extension": ".py",
   "mimetype": "text/x-python",
   "name": "python",
   "nbconvert_exporter": "python",
   "pygments_lexer": "ipython3",
   "version": "3.13.7"
  }
 },
 "nbformat": 4,
 "nbformat_minor": 5
}
